{
  "cells": [
    {
      "cell_type": "code",
      "execution_count": 1,
      "metadata": {
        "trusted": true
      },
      "outputs": [
        {
          "name": "stdout",
          "output_type": "stream",
          "text": [
            "3600\n",
            "86400\n"
          ]
        }
      ],
      "source": [
        "seconds_per_hour = 3600\n",
        "seconds_per_day = 24 * seconds_per_hour\n",
        "seconds_per_day / seconds_per_hour\n",
        "seconds_per_day // seconds_per_hour\n",
        "\n",
        "#3.1\n",
        "print(seconds_per_hour)\n",
        "\n",
        "#3.3\n",
        "print(seconds_per_day)\n",
        "\n",
        "\n"
      ]
    },
    {
      "cell_type": "code",
      "execution_count": null,
      "metadata": {},
      "outputs": [],
      "source": []
    }
  ],
  "metadata": {
    "kernelspec": {
      "display_name": "Python (Pyodide)",
      "language": "python",
      "name": "python"
    },
    "language_info": {
      "codemirror_mode": {
        "name": "python",
        "version": 3
      },
      "file_extension": ".py",
      "mimetype": "text/x-python",
      "name": "python",
      "nbconvert_exporter": "python",
      "pygments_lexer": "ipython3",
      "version": "3.8"
    }
  },
  "nbformat": 4,
  "nbformat_minor": 4
}
